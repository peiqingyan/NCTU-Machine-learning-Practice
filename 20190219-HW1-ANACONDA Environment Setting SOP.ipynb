{
 "cells": [
  {
   "cell_type": "markdown",
   "metadata": {},
   "source": [
    "# `ANACONDA Environment Setting SOP`\n",
    "\n",
    "# `￭ 程式安裝`\n",
    "\n",
    "* `[進入ANACONDA網站]`\n",
    "* 搜尋關鍵字：ANACONDA\n",
    "* 進入 \"Home - Anaconda\" 網站\n",
    "---\n",
    "* `[下載ANACONDA]`\n",
    "* 網站右上角按：Download\n",
    "* 選擇作業系統：Windows (window xp 已停止授權)\n",
    "* 選擇版本：Python 3.7 version\n",
    "* 安裝程式\n",
    "---\n",
    "# `￭ 下載套件`\n",
    "\n",
    "* `[開啟程式]`\n",
    "* 開始/程式集\n",
    "* 開啟Anaconda3 (64-bit)\n",
    "* 進入Anaconda Navigator程式\n",
    "---\n",
    "* `[新建環境主題]`\n",
    "* 點選Environments\n",
    "* 按Create\n",
    "* 自訂名稱\n",
    "* 選擇版本：Python 3.7 >> Create\n",
    "---\n",
    "* `[下載以下的所需套件]`\n",
    "* numpy\n",
    "* scipy\n",
    "* matplotlib\n",
    "* scikit-learn\n",
    "* jupyter\n",
    "* spyder\n",
    "* TensorFlow\n",
    "---\n",
    "# `￭ 開啟及編輯程式`\n",
    "\n",
    "* `[開啟jupyter]`\n",
    "* New\n",
    "* Python 3\n",
    "---\n",
    "* `[編寫程式]`\n",
    "* In[1] 後開始編輯程式\n",
    "* Run 執行運算程式\n"
   ]
  },
  {
   "cell_type": "code",
   "execution_count": null,
   "metadata": {},
   "outputs": [],
   "source": []
  }
 ],
 "metadata": {
  "kernelspec": {
   "display_name": "Python 3",
   "language": "python",
   "name": "python3"
  },
  "language_info": {
   "codemirror_mode": {
    "name": "ipython",
    "version": 3
   },
   "file_extension": ".py",
   "mimetype": "text/x-python",
   "name": "python",
   "nbconvert_exporter": "python",
   "pygments_lexer": "ipython3",
   "version": "3.7.3"
  }
 },
 "nbformat": 4,
 "nbformat_minor": 2
}
